{
  "nbformat": 4,
  "nbformat_minor": 0,
  "metadata": {
    "colab": {
      "provenance": []
    },
    "kernelspec": {
      "name": "python3",
      "display_name": "Python 3"
    },
    "language_info": {
      "name": "python"
    }
  },
  "cells": [
    {
      "cell_type": "markdown",
      "source": [
        "[![Open In Colab](https://colab.research.google.com/assets/colab-badge.svg)](https://colab.research.google.com/drive/1sd17CQ1Jo5kY_TYQzWdl4Rj0pTQG6oeY?usp=sharing)\n"
      ],
      "metadata": {
        "id": "GrBxGn7zGxxH"
      }
    },
    {
      "cell_type": "markdown",
      "source": [
        "# get data"
      ],
      "metadata": {
        "id": "C5cmnNOLGgcI"
      }
    },
    {
      "cell_type": "code",
      "source": [
        "import pandas as pd"
      ],
      "metadata": {
        "id": "Ss8-H1YRDc7y"
      },
      "execution_count": null,
      "outputs": []
    },
    {
      "cell_type": "code",
      "source": [
        "dataset = pd.read_csv('text2music.csv', index_col='Unnamed: 0')"
      ],
      "metadata": {
        "id": "sBGX5IuuEU_X"
      },
      "execution_count": null,
      "outputs": []
    },
    {
      "cell_type": "code",
      "source": [
        "data = dataset[dataset['story'] == '']"
      ],
      "metadata": {
        "id": "cT29NPoT9MyI"
      },
      "execution_count": null,
      "outputs": []
    },
    {
      "cell_type": "code",
      "source": [
        "texts_base = []\n",
        "for i in range(data.shape[0]):\n",
        "  line = ''\n",
        "  for col in data.columns:\n",
        "    if col != 'music':\n",
        "      line += data.iloc[i][col] + ' | '\n",
        "\n",
        "  texts_base.append(line)"
      ],
      "metadata": {
        "id": "IxH3aj42ElAP"
      },
      "execution_count": null,
      "outputs": []
    },
    {
      "cell_type": "code",
      "source": [
        "texts_base[:5]"
      ],
      "metadata": {
        "colab": {
          "base_uri": "https://localhost:8080/"
        },
        "id": "affMS25IDWU-",
        "outputId": "04e192fa-2ece-4e88-899c-bbf35d641440"
      },
      "execution_count": null,
      "outputs": [
        {
          "output_type": "execute_result",
          "data": {
            "text/plain": [
              "['Pop | Counting Stars | \"Counting Stars\" is a song by American pop rock band OneRepublic from their third studio album, Native (2013). The song was written by lead singer Ryan Tedder, and produced by Tedder and Noel Zancanella. It was released as the album\\'s second single on June 14, 2013. The song has been one of the band\\'s most successful singles, reaching number one in many countries including Canada and the United Kingdom. | Ryan Tedder |  | ',\n",
              " 'Country | Country Bumpkin | \"Country Bumpkin\" is a song written by Don Wayne, and recorded by American country music artist Cal Smith. It was released in February 1974 as the first single and title track from the album Country Bumpkins. The single stayed at number one for a single week and spent a total of ten weeks on the country chart. It received Song of the Year Awards from the Academy of Country Music and the Country Music Association. | Don Wayne |  | ',\n",
              " 'Pop | Cracklin\\' Rosie | \"Cracklin\\' Rosie\" is a song written and recorded by Neil Diamond in 1970. In October 1970; the song became Diamond\\'s first American #1 hit on The Billboard Hot 100, and his third to sell a million copies. It was his breakthrough single on the UK Singles Chart, reaching #3 for four weeks in November and December. | Neil Diamond |  | ',\n",
              " 'Jazz | Crazy He Calls Me | \"Crazy He Calls Me\" is a 1949 jazz standard. It was composed by Carl Sigman, with lyrics by Bob Russell. American jazz singer Billie Holiday recorded it. This version of the song is used in the games Fallout 4 and Fallout 3. | Carl Sigman |  | ',\n",
              " 'Rock | Crazy Little Thing Called Love | \"Crazy Little Thing Called Love\" is a song by the British rock band Queen. Written by Freddie Mercury in 1979, the track is included on their 1980 album The Game. The song peaked at number two in the UK Singles Chart in 1979. It was the group\\'s first number-one single on the Billboard Hot 100 in the US in 1980. | Freddy Mercury |  | ']"
            ]
          },
          "metadata": {},
          "execution_count": 133
        }
      ]
    },
    {
      "cell_type": "markdown",
      "source": [
        "# connect to GPT-3.5"
      ],
      "metadata": {
        "id": "yYKVeq0bGZU_"
      }
    },
    {
      "cell_type": "code",
      "source": [
        "!pip install openai"
      ],
      "metadata": {
        "id": "eyd3ET9yVAq2",
        "colab": {
          "base_uri": "https://localhost:8080/"
        },
        "outputId": "4e26f43c-dfbd-46bb-8aa5-350e567d0904"
      },
      "execution_count": null,
      "outputs": [
        {
          "output_type": "stream",
          "name": "stdout",
          "text": [
            "/bin/bash: /root/anaconda3/lib/libtinfo.so.6: no version information available (required by /bin/bash)\n",
            "Requirement already satisfied: openai in /root/anaconda3/lib/python3.9/site-packages (0.27.6)\n",
            "Requirement already satisfied: tqdm in /root/anaconda3/lib/python3.9/site-packages (from openai) (4.65.0)\n",
            "Requirement already satisfied: aiohttp in /root/anaconda3/lib/python3.9/site-packages (from openai) (3.8.4)\n",
            "Requirement already satisfied: requests>=2.20 in /root/anaconda3/lib/python3.9/site-packages (from openai) (2.30.0)\n",
            "Requirement already satisfied: urllib3<3,>=1.21.1 in /root/anaconda3/lib/python3.9/site-packages (from requests>=2.20->openai) (1.26.15)\n",
            "Requirement already satisfied: charset-normalizer<4,>=2 in /root/anaconda3/lib/python3.9/site-packages (from requests>=2.20->openai) (3.1.0)\n",
            "Requirement already satisfied: idna<4,>=2.5 in /root/anaconda3/lib/python3.9/site-packages (from requests>=2.20->openai) (3.4)\n",
            "Requirement already satisfied: certifi>=2017.4.17 in /root/anaconda3/lib/python3.9/site-packages (from requests>=2.20->openai) (2022.12.7)\n",
            "Requirement already satisfied: aiosignal>=1.1.2 in /root/anaconda3/lib/python3.9/site-packages (from aiohttp->openai) (1.3.1)\n",
            "Requirement already satisfied: frozenlist>=1.1.1 in /root/anaconda3/lib/python3.9/site-packages (from aiohttp->openai) (1.3.3)\n",
            "Requirement already satisfied: yarl<2.0,>=1.0 in /root/anaconda3/lib/python3.9/site-packages (from aiohttp->openai) (1.9.2)\n",
            "Requirement already satisfied: attrs>=17.3.0 in /root/anaconda3/lib/python3.9/site-packages (from aiohttp->openai) (23.1.0)\n",
            "Requirement already satisfied: multidict<7.0,>=4.5 in /root/anaconda3/lib/python3.9/site-packages (from aiohttp->openai) (6.0.4)\n",
            "Requirement already satisfied: async-timeout<5.0,>=4.0.0a3 in /root/anaconda3/lib/python3.9/site-packages (from aiohttp->openai) (4.0.2)\n",
            "\u001b[33mWARNING: Running pip as the 'root' user can result in broken permissions and conflicting behaviour with the system package manager. It is recommended to use a virtual environment instead: https://pip.pypa.io/warnings/venv\u001b[0m\u001b[33m\n",
            "\u001b[0m"
          ]
        }
      ]
    },
    {
      "cell_type": "code",
      "source": [
        "api_key = ''"
      ],
      "metadata": {
        "id": "NeuYO2S3VqlM"
      },
      "execution_count": null,
      "outputs": []
    },
    {
      "cell_type": "code",
      "source": [
        "import os\n",
        "import openai\n",
        "\n",
        "# Replace \"your_api_key_here\" with your actual API key or set the environment variable\n",
        "api_key = os.getenv(\"OPENAI_API_KEY\", api_key)\n",
        "openai.api_key = api_key\n",
        "\n",
        "def ask_gpt35(prompt):\n",
        "    response = openai.ChatCompletion.create(\n",
        "        model=\"gpt-3.5-turbo\",\n",
        "        messages=[{\"role\": \"user\", \"content\": prompt }],\n",
        "        max_tokens = 2000,\n",
        "        n=5,\n",
        "        stop=None,\n",
        "        temperature=0.8,\n",
        "    )\n",
        "    message = response.choices[0]['message']['content']\n",
        "    return message\n"
      ],
      "metadata": {
        "id": "-BOCQ2TtZvsD"
      },
      "execution_count": null,
      "outputs": []
    },
    {
      "cell_type": "code",
      "source": [
        "from tqdm import tqdm"
      ],
      "metadata": {
        "id": "dUbapYz_yBgN"
      },
      "execution_count": null,
      "outputs": []
    },
    {
      "cell_type": "code",
      "source": [
        "prompt = '''Help me to fune-tune model. In list below you can see strings with info about song. Create story about feelings, inspired by each song.\n",
        "Requirements:\n",
        "1.Return story for each line in folowing format:\n",
        "\n",
        "SONG NAME:...\n",
        "STORY:...\n",
        "\n",
        "2. You must to divide each song name and story by ###.\n",
        "3. Avoid mention of sertain song in story, provide only general info in story.\n",
        "\n",
        "List of songs info:\n",
        "{lines_list}'''\n"
      ],
      "metadata": {
        "id": "b8inFKDKZ-Af"
      },
      "execution_count": null,
      "outputs": []
    },
    {
      "cell_type": "code",
      "source": [
        "answers = []"
      ],
      "metadata": {
        "id": "cF_QBz9c4KBH"
      },
      "execution_count": null,
      "outputs": []
    },
    {
      "cell_type": "code",
      "source": [
        "len(texts_base)"
      ],
      "metadata": {
        "colab": {
          "base_uri": "https://localhost:8080/"
        },
        "id": "2A2h8tj49oa6",
        "outputId": "f5631ad0-5073-4d6b-8887-2dbeae07e4e2"
      },
      "execution_count": null,
      "outputs": [
        {
          "output_type": "execute_result",
          "data": {
            "text/plain": [
              "35"
            ]
          },
          "metadata": {},
          "execution_count": 136
        }
      ]
    },
    {
      "cell_type": "code",
      "source": [
        "new_answers = []"
      ],
      "metadata": {
        "id": "w5tF2pns9dGK"
      },
      "execution_count": null,
      "outputs": []
    },
    {
      "cell_type": "code",
      "source": [
        "shift = 7\n",
        "for i in tqdm(range(len(new_answers),len(texts_base) // shift - 1)):\n",
        "  answer = ask_gpt35(prompt.format(lines_list = texts_base[i*shift:(i+1)*shift]))\n",
        "  new_answers.append(answer)"
      ],
      "metadata": {
        "id": "SVKIUUDlZzV0",
        "colab": {
          "base_uri": "https://localhost:8080/"
        },
        "outputId": "c7d50a35-a44b-4f14-de0f-90860f8ea0a5"
      },
      "execution_count": null,
      "outputs": [
        {
          "output_type": "stream",
          "name": "stderr",
          "text": [
            "100%|█████████████████████████████████████████████████████████████████████████████████████| 4/4 [04:41<00:00, 70.26s/it]\n"
          ]
        }
      ]
    },
    {
      "cell_type": "code",
      "source": [
        "len(new_answers)"
      ],
      "metadata": {
        "id": "Ye5Rcm6I0-lq",
        "colab": {
          "base_uri": "https://localhost:8080/"
        },
        "outputId": "d05275f1-a99b-4c78-8d0e-c426476708e5"
      },
      "execution_count": null,
      "outputs": [
        {
          "output_type": "execute_result",
          "data": {
            "text/plain": [
              "100"
            ]
          },
          "metadata": {},
          "execution_count": 69
        }
      ]
    },
    {
      "cell_type": "code",
      "source": [
        "def get_song_stories(answers):\n",
        "  song_story = {}\n",
        "  wrong_answer_list = []\n",
        "  group_id = 0\n",
        "\n",
        "  for answer in tqdm(answers):\n",
        "    answer_list = answer.split('###')\n",
        "    if len(answer_list) == 1:\n",
        "      wrong_answer_list.append((group_id, answer))\n",
        "      group_id += 1\n",
        "      continue\n",
        "    for line in answer_list:\n",
        "      if line == '':\n",
        "        continue\n",
        "      story = line.split('STORY: ')[-1].replace('\\n','')\n",
        "      song_name = line.split('STORY:')[0].split('SONG NAME: ')[-1].replace('\\n','').lower()\n",
        "      song_story[song_name] = story\n",
        "    group_id += 1\n",
        "  return song_story, wrong_answer_list"
      ],
      "metadata": {
        "id": "kOplMmrSxuXH"
      },
      "execution_count": null,
      "outputs": []
    },
    {
      "cell_type": "code",
      "source": [
        "songs_story_dict, wrong_answer_list = get_song_stories(answers)"
      ],
      "metadata": {
        "id": "Zl4BViYi5dPE",
        "colab": {
          "base_uri": "https://localhost:8080/"
        },
        "outputId": "f8260cc4-efa6-41d6-d397-68b24f63042a"
      },
      "execution_count": null,
      "outputs": [
        {
          "output_type": "stream",
          "name": "stderr",
          "text": [
            "100%|██████████████████████████████████████████████████████████████████████████████| 100/100 [00:00<00:00, 75045.70it/s]\n"
          ]
        }
      ]
    },
    {
      "cell_type": "code",
      "source": [
        "songs_empty_dict, wrong_answer_list = get_song_stories(new_answers)"
      ],
      "metadata": {
        "colab": {
          "base_uri": "https://localhost:8080/"
        },
        "id": "dUKANp4q92SM",
        "outputId": "d8eaa444-3648-460d-87de-f3e8e4233f05"
      },
      "execution_count": null,
      "outputs": [
        {
          "output_type": "stream",
          "name": "stderr",
          "text": [
            "100%|██████████████████████████████████████████████████████████████████████████████████| 4/4 [00:00<00:00, 34100.03it/s]\n"
          ]
        }
      ]
    },
    {
      "cell_type": "code",
      "source": [
        "songs_empty_dict.keys()"
      ],
      "metadata": {
        "colab": {
          "base_uri": "https://localhost:8080/"
        },
        "id": "L4HYsT2N0-WQ",
        "outputId": "076a006c-7f22-4199-ad70-1962fc67a843"
      },
      "execution_count": null,
      "outputs": [
        {
          "output_type": "execute_result",
          "data": {
            "text/plain": [
              "dict_keys(['counting stars', 'country bumpkin', \"cracklin' rosie\", 'crazy he calls me', 'crazy little thing called love', 'crazy rhythm', 'crying in the chapel', 'crying my heart out over you', 'crying time', 'cuddle up a little closer, lovey mine', 'for baby (for bobbie)', 'g. i. jive', \"i can't give you anything but love\", 'no more blues', 'on top of old smoky', 'toot, toot, tootsie', 'total eclipse of the heart', 'try a little tenderness', 'tulips from amsterdam', 'tumbling tumbleweeds', 'turn out the stars', 'turn! turn! turn!', 'turning tables', 'tuxedo junction', 'two sleepy people', \"you're so vain\", \"you're the reason i'm living\", \"you've changed\"])"
            ]
          },
          "metadata": {},
          "execution_count": 139
        }
      ]
    },
    {
      "cell_type": "code",
      "source": [
        "for el in wrong_answer_list[1][1].split('\\n\\n'):\n",
        "  story = line.split('STORY: ')[-1].replace('\\n','')\n",
        "  song_name = line.split('STORY:')[0].split('SONG NAME: ')[-1].replace('\\n','').lower()\n",
        "  songs_story_dict[song_name] = story"
      ],
      "metadata": {
        "id": "QMoqcAeV6fnW"
      },
      "execution_count": null,
      "outputs": []
    },
    {
      "cell_type": "code",
      "source": [],
      "metadata": {
        "id": "FkeYYHjx7I0m"
      },
      "execution_count": null,
      "outputs": []
    },
    {
      "cell_type": "code",
      "source": [
        "songs_story_dict[\"'deed i do\"] = songs_story_dict['deed i do']"
      ],
      "metadata": {
        "id": "LCiTG3v43Rw1"
      },
      "execution_count": null,
      "outputs": []
    },
    {
      "cell_type": "code",
      "source": [
        "def get_story(text):\n",
        "  text = text.lower()\n",
        "  if text in songs_story_dict:\n",
        "    return songs_story_dict[text]\n",
        "  elif text in songs_empty_dict:\n",
        "    return songs_empty_dict[text]\n",
        "  else:\n",
        "    return ''"
      ],
      "metadata": {
        "id": "dKE9snGF_8US"
      },
      "execution_count": null,
      "outputs": []
    },
    {
      "cell_type": "code",
      "source": [
        "dataset['story'] = dataset['name'].apply(get_story)"
      ],
      "metadata": {
        "id": "26jXRpEe-Cvk"
      },
      "execution_count": null,
      "outputs": []
    },
    {
      "cell_type": "code",
      "source": [
        "dataset[dataset['story'] == ''].shape"
      ],
      "metadata": {
        "colab": {
          "base_uri": "https://localhost:8080/"
        },
        "id": "9kxfxFBJ7qrx",
        "outputId": "1618ddd3-c133-44d5-fe09-b0d75da24c7f"
      },
      "execution_count": null,
      "outputs": [
        {
          "output_type": "execute_result",
          "data": {
            "text/plain": [
              "(7, 6)"
            ]
          },
          "metadata": {},
          "execution_count": 144
        }
      ]
    },
    {
      "cell_type": "code",
      "source": [
        "dataset.to_csv('text2music.csv')"
      ],
      "metadata": {
        "id": "7NKpycsX-JjJ"
      },
      "execution_count": null,
      "outputs": []
    },
    {
      "cell_type": "code",
      "source": [
        "dataset"
      ],
      "metadata": {
        "id": "RA9O4rjfDQ6b",
        "colab": {
          "base_uri": "https://localhost:8080/",
          "height": 563
        },
        "outputId": "b746388c-abd1-439f-bc6a-c81e9c12c438"
      },
      "execution_count": null,
      "outputs": [
        {
          "output_type": "execute_result",
          "data": {
            "text/plain": [
              "                                                  music    genre   \n",
              "0     X:1\\nL:1/8\\nQ:1/4=165\\nM:4/4\\nK:F\\nV:1 treble ...     Jazz  \\\n",
              "1     X:1\\nL:1/4\\nM:4/4\\nK:C\\nV:1 treble nm=\"Electri...  Country   \n",
              "2     X:1\\nL:1/4\\nM:4/4\\nK:F\\nV:1 treble nm=\"Electri...     Folk   \n",
              "3     X:1\\nL:1/8\\nQ:1/4=216000\\nM:4/4\\nK:G\\nV:1 treb...      R&B   \n",
              "4     X:1\\nL:1/8\\nM:3/4\\nK:C\\nV:1 treble nm=\"Electri...      R&B   \n",
              "...                                                 ...      ...   \n",
              "1005  X:1\\nL:1/4\\nM:4/4\\nK:C\\nV:1 treble \\nV:1\\n z\"C...     Jazz   \n",
              "1006  X:1\\nL:1/4\\nM:4/4\\nK:C\\nV:1 treble \\nV:1\\n z\"G...  Country   \n",
              "1007  X:1\\n%%score ( 1 2 )\\nL:1/16\\nM:4/4\\nK:Bb\\nV:1...     Rock   \n",
              "1008  X:1\\nL:1/4\\nM:2/2\\nK:F\\nV:1 treble nm=\"Voice\" ...      Pop   \n",
              "1009  X:1\\nL:1/4\\nM:4/4\\nK:Bb\\nV:1 treble nm=\"Piano\"...      R&B   \n",
              "\n",
              "                                         name   \n",
              "0                                  'Deed I Do  \\\n",
              "1     (Now and Then There's) a Fool Such as I   \n",
              "2     (Remember Me) I'm the One Who Loves You   \n",
              "3            (Sittin' On) the Dock of the Bay   \n",
              "4           (There'll Be) Peace in the Valley   \n",
              "...                                       ...   \n",
              "1005                  Younger Than Springtime   \n",
              "1006                      Your Cheatin' Heart   \n",
              "1007                                Your Song   \n",
              "1008                  Yours Is My Heart Alone   \n",
              "1009                        Zip-a-dee-doo-dah   \n",
              "\n",
              "                                                   text   \n",
              "0     \"Deed I Do\" is a 1926 jazz standard composed b...  \\\n",
              "1     \"Now and Then There's A Fool Such as I\" is a p...   \n",
              "2      \"(Remember Me) I'm The One Who Loves You\" is ...   \n",
              "3     \"The Dock of the Bay\" is a song co-written by ...   \n",
              "4     \"There'll Be Peace in the Valley for Me\" is a ...   \n",
              "...                                                 ...   \n",
              "1005  \"Younger Than Springtime\" is a show tune from ...   \n",
              "1006  \"Your Cheatin' Heart\" is a song written and re...   \n",
              "1007  \"Your Song\" is a song written by Elton John an...   \n",
              "1008  \"Yours Is My Heart Alone\" or \"You Are My Heart...   \n",
              "1009  \"Zip-a-Dee-Doo-Dah\" is a song composed by Alli...   \n",
              "\n",
              "                           artist   \n",
              "0                       Fred Rose  \\\n",
              "1                     Bill Trader   \n",
              "2                  Stuart Hamblen   \n",
              "3     Otis Reading, Steve Cropper   \n",
              "4                Thomas A. Dorsey   \n",
              "...                           ...   \n",
              "1005              Richard Rodgers   \n",
              "1006                Hank Williams   \n",
              "1007                   Elton John   \n",
              "1008                  Franz Lehar   \n",
              "1009                 Allie Wrubel   \n",
              "\n",
              "                                                  story  \n",
              "0     As the smooth jazz notes of \"Deed I Do\" filled...  \n",
              "1     The twang of the country chords in \"Now and Th...  \n",
              "2     The gentle strumming of the folk guitar in \"(R...  \n",
              "3     The soulful sounds of \"(Sittin' On) the Dock o...  \n",
              "4     The gospel-inspired vocals and uplifting lyric...  \n",
              "...                                                 ...  \n",
              "1005                                                     \n",
              "1006                                                     \n",
              "1007                                                     \n",
              "1008                                                     \n",
              "1009                                                     \n",
              "\n",
              "[1010 rows x 6 columns]"
            ],
            "text/html": [
              "<div>\n",
              "<style scoped>\n",
              "    .dataframe tbody tr th:only-of-type {\n",
              "        vertical-align: middle;\n",
              "    }\n",
              "\n",
              "    .dataframe tbody tr th {\n",
              "        vertical-align: top;\n",
              "    }\n",
              "\n",
              "    .dataframe thead th {\n",
              "        text-align: right;\n",
              "    }\n",
              "</style>\n",
              "<table border=\"1\" class=\"dataframe\">\n",
              "  <thead>\n",
              "    <tr style=\"text-align: right;\">\n",
              "      <th></th>\n",
              "      <th>music</th>\n",
              "      <th>genre</th>\n",
              "      <th>name</th>\n",
              "      <th>text</th>\n",
              "      <th>artist</th>\n",
              "      <th>story</th>\n",
              "    </tr>\n",
              "  </thead>\n",
              "  <tbody>\n",
              "    <tr>\n",
              "      <th>0</th>\n",
              "      <td>X:1\\nL:1/8\\nQ:1/4=165\\nM:4/4\\nK:F\\nV:1 treble ...</td>\n",
              "      <td>Jazz</td>\n",
              "      <td>'Deed I Do</td>\n",
              "      <td>\"Deed I Do\" is a 1926 jazz standard composed b...</td>\n",
              "      <td>Fred Rose</td>\n",
              "      <td>As the smooth jazz notes of \"Deed I Do\" filled...</td>\n",
              "    </tr>\n",
              "    <tr>\n",
              "      <th>1</th>\n",
              "      <td>X:1\\nL:1/4\\nM:4/4\\nK:C\\nV:1 treble nm=\"Electri...</td>\n",
              "      <td>Country</td>\n",
              "      <td>(Now and Then There's) a Fool Such as I</td>\n",
              "      <td>\"Now and Then There's A Fool Such as I\" is a p...</td>\n",
              "      <td>Bill Trader</td>\n",
              "      <td>The twang of the country chords in \"Now and Th...</td>\n",
              "    </tr>\n",
              "    <tr>\n",
              "      <th>2</th>\n",
              "      <td>X:1\\nL:1/4\\nM:4/4\\nK:F\\nV:1 treble nm=\"Electri...</td>\n",
              "      <td>Folk</td>\n",
              "      <td>(Remember Me) I'm the One Who Loves You</td>\n",
              "      <td>\"(Remember Me) I'm The One Who Loves You\" is ...</td>\n",
              "      <td>Stuart Hamblen</td>\n",
              "      <td>The gentle strumming of the folk guitar in \"(R...</td>\n",
              "    </tr>\n",
              "    <tr>\n",
              "      <th>3</th>\n",
              "      <td>X:1\\nL:1/8\\nQ:1/4=216000\\nM:4/4\\nK:G\\nV:1 treb...</td>\n",
              "      <td>R&amp;B</td>\n",
              "      <td>(Sittin' On) the Dock of the Bay</td>\n",
              "      <td>\"The Dock of the Bay\" is a song co-written by ...</td>\n",
              "      <td>Otis Reading, Steve Cropper</td>\n",
              "      <td>The soulful sounds of \"(Sittin' On) the Dock o...</td>\n",
              "    </tr>\n",
              "    <tr>\n",
              "      <th>4</th>\n",
              "      <td>X:1\\nL:1/8\\nM:3/4\\nK:C\\nV:1 treble nm=\"Electri...</td>\n",
              "      <td>R&amp;B</td>\n",
              "      <td>(There'll Be) Peace in the Valley</td>\n",
              "      <td>\"There'll Be Peace in the Valley for Me\" is a ...</td>\n",
              "      <td>Thomas A. Dorsey</td>\n",
              "      <td>The gospel-inspired vocals and uplifting lyric...</td>\n",
              "    </tr>\n",
              "    <tr>\n",
              "      <th>...</th>\n",
              "      <td>...</td>\n",
              "      <td>...</td>\n",
              "      <td>...</td>\n",
              "      <td>...</td>\n",
              "      <td>...</td>\n",
              "      <td>...</td>\n",
              "    </tr>\n",
              "    <tr>\n",
              "      <th>1005</th>\n",
              "      <td>X:1\\nL:1/4\\nM:4/4\\nK:C\\nV:1 treble \\nV:1\\n z\"C...</td>\n",
              "      <td>Jazz</td>\n",
              "      <td>Younger Than Springtime</td>\n",
              "      <td>\"Younger Than Springtime\" is a show tune from ...</td>\n",
              "      <td>Richard Rodgers</td>\n",
              "      <td></td>\n",
              "    </tr>\n",
              "    <tr>\n",
              "      <th>1006</th>\n",
              "      <td>X:1\\nL:1/4\\nM:4/4\\nK:C\\nV:1 treble \\nV:1\\n z\"G...</td>\n",
              "      <td>Country</td>\n",
              "      <td>Your Cheatin' Heart</td>\n",
              "      <td>\"Your Cheatin' Heart\" is a song written and re...</td>\n",
              "      <td>Hank Williams</td>\n",
              "      <td></td>\n",
              "    </tr>\n",
              "    <tr>\n",
              "      <th>1007</th>\n",
              "      <td>X:1\\n%%score ( 1 2 )\\nL:1/16\\nM:4/4\\nK:Bb\\nV:1...</td>\n",
              "      <td>Rock</td>\n",
              "      <td>Your Song</td>\n",
              "      <td>\"Your Song\" is a song written by Elton John an...</td>\n",
              "      <td>Elton John</td>\n",
              "      <td></td>\n",
              "    </tr>\n",
              "    <tr>\n",
              "      <th>1008</th>\n",
              "      <td>X:1\\nL:1/4\\nM:2/2\\nK:F\\nV:1 treble nm=\"Voice\" ...</td>\n",
              "      <td>Pop</td>\n",
              "      <td>Yours Is My Heart Alone</td>\n",
              "      <td>\"Yours Is My Heart Alone\" or \"You Are My Heart...</td>\n",
              "      <td>Franz Lehar</td>\n",
              "      <td></td>\n",
              "    </tr>\n",
              "    <tr>\n",
              "      <th>1009</th>\n",
              "      <td>X:1\\nL:1/4\\nM:4/4\\nK:Bb\\nV:1 treble nm=\"Piano\"...</td>\n",
              "      <td>R&amp;B</td>\n",
              "      <td>Zip-a-dee-doo-dah</td>\n",
              "      <td>\"Zip-a-Dee-Doo-Dah\" is a song composed by Alli...</td>\n",
              "      <td>Allie Wrubel</td>\n",
              "      <td></td>\n",
              "    </tr>\n",
              "  </tbody>\n",
              "</table>\n",
              "<p>1010 rows × 6 columns</p>\n",
              "</div>"
            ]
          },
          "metadata": {},
          "execution_count": 146
        }
      ]
    },
    {
      "cell_type": "code",
      "source": [],
      "metadata": {
        "id": "e5WR8YY1AejL"
      },
      "execution_count": null,
      "outputs": []
    }
  ]
}