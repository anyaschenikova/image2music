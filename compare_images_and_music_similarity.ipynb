{
  "nbformat": 4,
  "nbformat_minor": 0,
  "metadata": {
    "colab": {
      "provenance": []
    },
    "kernelspec": {
      "name": "python3",
      "display_name": "Python 3"
    },
    "language_info": {
      "name": "python"
    }
  },
  "cells": [
    {
      "cell_type": "markdown",
      "source": [
        "[![Open In Colab](https://colab.research.google.com/assets/colab-badge.svg)](https://colab.research.google.com/drive/1zP8qlM5UPIxnShqmBOhLzPTwAW0lkoB7?usp=sharing)"
      ],
      "metadata": {
        "id": "puP32ltoE39N"
      }
    },
    {
      "cell_type": "markdown",
      "source": [
        "#Connect to device"
      ],
      "metadata": {
        "id": "XqeWKsqtscch"
      }
    },
    {
      "cell_type": "code",
      "source": [
        "import torch\n",
        "device = torch.device('cuda:0')\n",
        "torch.cuda.get_device_name(0)"
      ],
      "metadata": {
        "id": "7iydo8k_sTNM",
        "colab": {
          "base_uri": "https://localhost:8080/"
        },
        "outputId": "dda8e80d-4428-4346-c3b2-973d07f8c052"
      },
      "execution_count": null,
      "outputs": [
        {
          "output_type": "execute_result",
          "data": {
            "text/plain": [
              "'NVIDIA GeForce RTX 3080 Ti'"
            ]
          },
          "metadata": {},
          "execution_count": 1
        }
      ]
    },
    {
      "cell_type": "code",
      "source": [
        "# !pip install datasets"
      ],
      "metadata": {
        "id": "kVSRCD8eCtQg"
      },
      "execution_count": null,
      "outputs": []
    },
    {
      "cell_type": "markdown",
      "source": [
        "# image and poetry similarity"
      ],
      "metadata": {
        "id": "LEs0s-ukBvCP"
      }
    },
    {
      "cell_type": "code",
      "source": [
        "from datasets import load_dataset\n",
        "\n",
        "dataset = load_dataset('AnyaSchen/image2music_abc')"
      ],
      "metadata": {
        "id": "D3WRNzrnC1Uo",
        "colab": {
          "base_uri": "https://localhost:8080/"
        },
        "outputId": "c7188784-ab2a-4b73-b806-e735b9fcfd75"
      },
      "execution_count": null,
      "outputs": [
        {
          "output_type": "stream",
          "name": "stderr",
          "text": [
            "/home/revolt/anaconda3/envs/poetry_gpt3_large/lib/python3.9/site-packages/tqdm/auto.py:21: TqdmWarning: IProgress not found. Please update jupyter and ipywidgets. See https://ipywidgets.readthedocs.io/en/stable/user_install.html\n",
            "  from .autonotebook import tqdm as notebook_tqdm\n",
            "Found cached dataset parquet (/home/revolt/.cache/huggingface/datasets/AnyaSchen___parquet/AnyaSchen--image2music_abc-784eee9f15716c2e/0.0.0/2a3b91fbd88a2c90d1dbbb32b460cf621d31bd5b05b934492fdef7d8d6f236ec)\n",
            "100%|█████████████████████████████████████████████████| 1/1 [00:00<00:00, 399.99it/s]\n"
          ]
        }
      ]
    },
    {
      "cell_type": "code",
      "source": [
        "import torch\n",
        "from torchvision.transforms import Compose, Resize, CenterCrop, ToTensor, Normalize\n",
        "from PIL import Image\n",
        "from sentence_transformers import SentenceTransformer\n",
        "from sklearn.metrics.pairwise import cosine_similarity"
      ],
      "metadata": {
        "id": "ijPP161io7zg"
      },
      "execution_count": null,
      "outputs": []
    },
    {
      "cell_type": "code",
      "source": [
        "import pickle"
      ],
      "metadata": {
        "id": "ms4x3HJvtnH6"
      },
      "execution_count": null,
      "outputs": []
    },
    {
      "cell_type": "code",
      "source": [
        "def save_embeddings(embeddings_dict: dict, path:str):\n",
        "  with open(path, 'wb') as f:\n",
        "    pickle.dump(embeddings_dict, f)\n",
        "  print(f'Saved {path}')"
      ],
      "metadata": {
        "id": "AAs8Xjs4tcaZ"
      },
      "execution_count": null,
      "outputs": []
    },
    {
      "cell_type": "code",
      "source": [
        "dataset"
      ],
      "metadata": {
        "id": "__15MmAJC9wv",
        "colab": {
          "base_uri": "https://localhost:8080/"
        },
        "outputId": "84ce246a-eabd-4529-dc25-36935406b3cf"
      },
      "execution_count": null,
      "outputs": [
        {
          "output_type": "execute_result",
          "data": {
            "text/plain": [
              "DatasetDict({\n",
              "    train: Dataset({\n",
              "        features: ['image', 'music', 'genre'],\n",
              "        num_rows: 1003\n",
              "    })\n",
              "})"
            ]
          },
          "metadata": {},
          "execution_count": 10
        }
      ]
    },
    {
      "cell_type": "code",
      "source": [
        "img_model = SentenceTransformer('clip-ViT-B-32').to(device)\n",
        "\n",
        "# images = [dataset['train'][i]['image'] for i in range(dataset['train'].num_rows)]\n",
        "\n",
        "image_embedding = img_model.encode(dataset['train']['image'])"
      ],
      "metadata": {
        "id": "Sdagx0GJps8J"
      },
      "execution_count": null,
      "outputs": []
    },
    {
      "cell_type": "code",
      "source": [
        "save_embeddings({'image': image_embedding}, './embeddings/image_music.pkl')"
      ],
      "metadata": {
        "id": "snsT1tcftbia",
        "colab": {
          "base_uri": "https://localhost:8080/"
        },
        "outputId": "99b86f02-0ab0-440d-9e6d-92b402f478ed"
      },
      "execution_count": null,
      "outputs": [
        {
          "output_type": "stream",
          "name": "stdout",
          "text": [
            "Saved ./embeddings_image_music.pkl\n"
          ]
        }
      ]
    },
    {
      "cell_type": "code",
      "source": [
        "def load_music(path):\n",
        "  with open(path, 'rb') as f:\n",
        "    load_music = pickle.load(f)\n",
        "  return load_music"
      ],
      "metadata": {
        "id": "T8B_K0yZygRJ"
      },
      "execution_count": null,
      "outputs": []
    },
    {
      "cell_type": "code",
      "source": [
        "del img_model"
      ],
      "metadata": {
        "id": "Joi_zM723ovN"
      },
      "execution_count": null,
      "outputs": []
    },
    {
      "cell_type": "markdown",
      "source": [
        "# get embeddings for poetry"
      ],
      "metadata": {
        "id": "RK09XfU7tMOu"
      }
    },
    {
      "cell_type": "code",
      "source": [
        "# Load the pre-trained CLIP model\n",
        "model = SentenceTransformer('sentence-transformers/clip-ViT-B-32-multilingual-v1').to(device)"
      ],
      "metadata": {
        "id": "ZsGyk2g0BtYx"
      },
      "execution_count": null,
      "outputs": []
    },
    {
      "cell_type": "code",
      "source": [
        "def from_pkl_to_list(data_dict):\n",
        "  data_list = []\n",
        "  author = dataset['train'][0]['author']\n",
        "  for i in range(1, dataset['train'].num_rows):\n",
        "    author_curr = dataset['train'][i]['author']\n",
        "    if author_curr != author:\n",
        "      for el in data_dict[author]:\n",
        "        data_list.append(el)\n",
        "      author = author_curr\n",
        "\n",
        "  return data_list"
      ],
      "metadata": {
        "id": "og-PseC5ymDR"
      },
      "execution_count": null,
      "outputs": []
    },
    {
      "cell_type": "code",
      "source": [
        "generated_music = model.encode(load_music(f'../generate/music.pkl')['music'])\n",
        "real_music_embedding = model.encode(dataset['train']['music'])"
      ],
      "metadata": {
        "id": "7MRADQe80Bqn"
      },
      "execution_count": null,
      "outputs": []
    },
    {
      "cell_type": "code",
      "source": [
        "save_embeddings({\n",
        "    'vit-bart-image2music': generated_music,\n",
        "    'real': real_music_embedding\n",
        "    }, './embeddings/music_for_image.pkl')"
      ],
      "metadata": {
        "id": "ENIoh8Bhzrj9",
        "colab": {
          "base_uri": "https://localhost:8080/"
        },
        "outputId": "a66c78ea-ab1b-4a6c-fef0-4d2909589a83"
      },
      "execution_count": null,
      "outputs": [
        {
          "output_type": "stream",
          "name": "stdout",
          "text": [
            "Saved ./embeddings_music_for_image.pkl\n"
          ]
        }
      ]
    },
    {
      "cell_type": "markdown",
      "source": [
        "#cosine similaruty"
      ],
      "metadata": {
        "id": "HjVtBJts91k-"
      }
    },
    {
      "cell_type": "code",
      "source": [
        "music = load_music('./embeddings/music_for_image.pkl')"
      ],
      "metadata": {
        "id": "qXVIg30tD2gD"
      },
      "execution_count": null,
      "outputs": []
    },
    {
      "cell_type": "code",
      "source": [
        "image = load_music('./embeddings/image_music.pkl')"
      ],
      "metadata": {
        "id": "0XZKtnFfEA72"
      },
      "execution_count": null,
      "outputs": []
    },
    {
      "cell_type": "code",
      "source": [
        "device = torch.device('cuda')"
      ],
      "metadata": {
        "id": "DuBMyDooDffT"
      },
      "execution_count": null,
      "outputs": []
    },
    {
      "cell_type": "code",
      "source": [
        "def avg_cosine_similarity(embeddings1, embeddings2):\n",
        "    # device = torch.device(\"cuda\" if torch.cuda.is_available() else \"cpu\")\n",
        "\n",
        "    embeddings1 = torch.tensor(embeddings1).cpu()\n",
        "    embeddings2 = torch.tensor(embeddings2).cpu()\n",
        "\n",
        "    total_similarity = 0\n",
        "    n = len(embeddings1)\n",
        "\n",
        "    for emb1 in embeddings1:\n",
        "        emb1 = emb1.unsqueeze(0)\n",
        "        similarities = cosine_similarity(emb1, embeddings2)\n",
        "        total_similarity += similarities.max().item()\n",
        "\n",
        "    return total_similarity / n"
      ],
      "metadata": {
        "id": "mYYgvcrjCgUs"
      },
      "execution_count": null,
      "outputs": []
    },
    {
      "cell_type": "code",
      "source": [
        "print(f\"The cosine similarity between the image and real_music is: {avg_cosine_similarity(real_music_embedding, image_embedding)}\")"
      ],
      "metadata": {
        "colab": {
          "base_uri": "https://localhost:8080/"
        },
        "id": "LDXUiwnlCijx",
        "outputId": "53de1808-263d-494b-eceb-0c1d63a1ad6d"
      },
      "execution_count": null,
      "outputs": [
        {
          "output_type": "stream",
          "name": "stdout",
          "text": [
            "The cosine similarity between the image and real_music is: 0.25164726449330804\n"
          ]
        }
      ]
    },
    {
      "cell_type": "code",
      "source": [],
      "metadata": {
        "id": "sjqI666VG3oZ"
      },
      "execution_count": null,
      "outputs": []
    }
  ]
}